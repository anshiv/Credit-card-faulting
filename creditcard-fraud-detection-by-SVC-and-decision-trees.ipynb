{
 "cells": [
  {
   "cell_type": "code",
   "execution_count": 1,
   "id": "52344972",
   "metadata": {
    "_cell_guid": "b1076dfc-b9ad-4769-8c92-a6c4dae69d19",
    "_uuid": "8f2839f25d086af736a60e9eeb907d3b93b6e0e5",
    "execution": {
     "iopub.execute_input": "2021-08-15T21:21:32.531572Z",
     "iopub.status.busy": "2021-08-15T21:21:32.530608Z",
     "iopub.status.idle": "2021-08-15T21:21:34.020895Z",
     "shell.execute_reply": "2021-08-15T21:21:34.020200Z",
     "shell.execute_reply.started": "2021-08-15T20:03:14.371319Z"
    },
    "papermill": {
     "duration": 1.548195,
     "end_time": "2021-08-15T21:21:34.021064",
     "exception": false,
     "start_time": "2021-08-15T21:21:32.472869",
     "status": "completed"
    },
    "tags": []
   },
   "outputs": [],
   "source": [
    "# This Python 3 environment comes with many helpful analytics libraries installed\n",
    "# It is defined by the kaggle/python Docker image: https://github.com/kaggle/docker-python\n",
    "\n",
    "import warnings\n",
    "warnings.filterwarnings('ignore')\n",
    "\n",
    "import numpy as np\n",
    "import pandas as pd\n",
    "import seaborn as sns \n",
    "import matplotlib.pyplot as plt\n",
    "from imblearn.over_sampling import SMOTE\n",
    "from sklearn.model_selection import train_test_split, GridSearchCV\n",
    "from sklearn.preprocessing import StandardScaler\n",
    "from sklearn.ensemble import RandomForestClassifier\n",
    "from sklearn.linear_model import LogisticRegression\n",
    "from sklearn.ensemble import GradientBoostingClassifier \n",
    "from sklearn.metrics import accuracy_score, roc_auc_score, plot_roc_curve, confusion_matrix, plot_confusion_matrix\n",
    "\n",
    "# Input data files are available in the read-only \"../input/\" directory\n",
    "# For example, running this (by clicking run or pressing Shift+Enter) will list all files under the input directory\n",
    "creditcard = '../input/creditcardfraud/creditcard.csv'\n",
    "\n"
   ]
  },
  {
   "cell_type": "code",
   "execution_count": 2,
   "id": "713bc444",
   "metadata": {
    "execution": {
     "iopub.execute_input": "2021-08-15T21:21:34.098139Z",
     "iopub.status.busy": "2021-08-15T21:21:34.097475Z",
     "iopub.status.idle": "2021-08-15T21:21:38.650676Z",
     "shell.execute_reply": "2021-08-15T21:21:38.651132Z",
     "shell.execute_reply.started": "2021-08-15T20:03:30.671198Z"
    },
    "papermill": {
     "duration": 4.593947,
     "end_time": "2021-08-15T21:21:38.651301",
     "exception": false,
     "start_time": "2021-08-15T21:21:34.057354",
     "status": "completed"
    },
    "tags": []
   },
   "outputs": [
    {
     "data": {
      "text/html": [
       "<div>\n",
       "<style scoped>\n",
       "    .dataframe tbody tr th:only-of-type {\n",
       "        vertical-align: middle;\n",
       "    }\n",
       "\n",
       "    .dataframe tbody tr th {\n",
       "        vertical-align: top;\n",
       "    }\n",
       "\n",
       "    .dataframe thead th {\n",
       "        text-align: right;\n",
       "    }\n",
       "</style>\n",
       "<table border=\"1\" class=\"dataframe\">\n",
       "  <thead>\n",
       "    <tr style=\"text-align: right;\">\n",
       "      <th></th>\n",
       "      <th>Time</th>\n",
       "      <th>V1</th>\n",
       "      <th>V2</th>\n",
       "      <th>V3</th>\n",
       "      <th>V4</th>\n",
       "      <th>V5</th>\n",
       "      <th>V6</th>\n",
       "      <th>V7</th>\n",
       "      <th>V8</th>\n",
       "      <th>V9</th>\n",
       "      <th>...</th>\n",
       "      <th>V21</th>\n",
       "      <th>V22</th>\n",
       "      <th>V23</th>\n",
       "      <th>V24</th>\n",
       "      <th>V25</th>\n",
       "      <th>V26</th>\n",
       "      <th>V27</th>\n",
       "      <th>V28</th>\n",
       "      <th>Amount</th>\n",
       "      <th>Class</th>\n",
       "    </tr>\n",
       "  </thead>\n",
       "  <tbody>\n",
       "    <tr>\n",
       "      <th>0</th>\n",
       "      <td>0.0</td>\n",
       "      <td>-1.359807</td>\n",
       "      <td>-0.072781</td>\n",
       "      <td>2.536347</td>\n",
       "      <td>1.378155</td>\n",
       "      <td>-0.338321</td>\n",
       "      <td>0.462388</td>\n",
       "      <td>0.239599</td>\n",
       "      <td>0.098698</td>\n",
       "      <td>0.363787</td>\n",
       "      <td>...</td>\n",
       "      <td>-0.018307</td>\n",
       "      <td>0.277838</td>\n",
       "      <td>-0.110474</td>\n",
       "      <td>0.066928</td>\n",
       "      <td>0.128539</td>\n",
       "      <td>-0.189115</td>\n",
       "      <td>0.133558</td>\n",
       "      <td>-0.021053</td>\n",
       "      <td>149.62</td>\n",
       "      <td>0</td>\n",
       "    </tr>\n",
       "    <tr>\n",
       "      <th>1</th>\n",
       "      <td>0.0</td>\n",
       "      <td>1.191857</td>\n",
       "      <td>0.266151</td>\n",
       "      <td>0.166480</td>\n",
       "      <td>0.448154</td>\n",
       "      <td>0.060018</td>\n",
       "      <td>-0.082361</td>\n",
       "      <td>-0.078803</td>\n",
       "      <td>0.085102</td>\n",
       "      <td>-0.255425</td>\n",
       "      <td>...</td>\n",
       "      <td>-0.225775</td>\n",
       "      <td>-0.638672</td>\n",
       "      <td>0.101288</td>\n",
       "      <td>-0.339846</td>\n",
       "      <td>0.167170</td>\n",
       "      <td>0.125895</td>\n",
       "      <td>-0.008983</td>\n",
       "      <td>0.014724</td>\n",
       "      <td>2.69</td>\n",
       "      <td>0</td>\n",
       "    </tr>\n",
       "    <tr>\n",
       "      <th>2</th>\n",
       "      <td>1.0</td>\n",
       "      <td>-1.358354</td>\n",
       "      <td>-1.340163</td>\n",
       "      <td>1.773209</td>\n",
       "      <td>0.379780</td>\n",
       "      <td>-0.503198</td>\n",
       "      <td>1.800499</td>\n",
       "      <td>0.791461</td>\n",
       "      <td>0.247676</td>\n",
       "      <td>-1.514654</td>\n",
       "      <td>...</td>\n",
       "      <td>0.247998</td>\n",
       "      <td>0.771679</td>\n",
       "      <td>0.909412</td>\n",
       "      <td>-0.689281</td>\n",
       "      <td>-0.327642</td>\n",
       "      <td>-0.139097</td>\n",
       "      <td>-0.055353</td>\n",
       "      <td>-0.059752</td>\n",
       "      <td>378.66</td>\n",
       "      <td>0</td>\n",
       "    </tr>\n",
       "    <tr>\n",
       "      <th>3</th>\n",
       "      <td>1.0</td>\n",
       "      <td>-0.966272</td>\n",
       "      <td>-0.185226</td>\n",
       "      <td>1.792993</td>\n",
       "      <td>-0.863291</td>\n",
       "      <td>-0.010309</td>\n",
       "      <td>1.247203</td>\n",
       "      <td>0.237609</td>\n",
       "      <td>0.377436</td>\n",
       "      <td>-1.387024</td>\n",
       "      <td>...</td>\n",
       "      <td>-0.108300</td>\n",
       "      <td>0.005274</td>\n",
       "      <td>-0.190321</td>\n",
       "      <td>-1.175575</td>\n",
       "      <td>0.647376</td>\n",
       "      <td>-0.221929</td>\n",
       "      <td>0.062723</td>\n",
       "      <td>0.061458</td>\n",
       "      <td>123.50</td>\n",
       "      <td>0</td>\n",
       "    </tr>\n",
       "    <tr>\n",
       "      <th>4</th>\n",
       "      <td>2.0</td>\n",
       "      <td>-1.158233</td>\n",
       "      <td>0.877737</td>\n",
       "      <td>1.548718</td>\n",
       "      <td>0.403034</td>\n",
       "      <td>-0.407193</td>\n",
       "      <td>0.095921</td>\n",
       "      <td>0.592941</td>\n",
       "      <td>-0.270533</td>\n",
       "      <td>0.817739</td>\n",
       "      <td>...</td>\n",
       "      <td>-0.009431</td>\n",
       "      <td>0.798278</td>\n",
       "      <td>-0.137458</td>\n",
       "      <td>0.141267</td>\n",
       "      <td>-0.206010</td>\n",
       "      <td>0.502292</td>\n",
       "      <td>0.219422</td>\n",
       "      <td>0.215153</td>\n",
       "      <td>69.99</td>\n",
       "      <td>0</td>\n",
       "    </tr>\n",
       "  </tbody>\n",
       "</table>\n",
       "<p>5 rows × 31 columns</p>\n",
       "</div>"
      ],
      "text/plain": [
       "   Time        V1        V2        V3        V4        V5        V6        V7  \\\n",
       "0   0.0 -1.359807 -0.072781  2.536347  1.378155 -0.338321  0.462388  0.239599   \n",
       "1   0.0  1.191857  0.266151  0.166480  0.448154  0.060018 -0.082361 -0.078803   \n",
       "2   1.0 -1.358354 -1.340163  1.773209  0.379780 -0.503198  1.800499  0.791461   \n",
       "3   1.0 -0.966272 -0.185226  1.792993 -0.863291 -0.010309  1.247203  0.237609   \n",
       "4   2.0 -1.158233  0.877737  1.548718  0.403034 -0.407193  0.095921  0.592941   \n",
       "\n",
       "         V8        V9  ...       V21       V22       V23       V24       V25  \\\n",
       "0  0.098698  0.363787  ... -0.018307  0.277838 -0.110474  0.066928  0.128539   \n",
       "1  0.085102 -0.255425  ... -0.225775 -0.638672  0.101288 -0.339846  0.167170   \n",
       "2  0.247676 -1.514654  ...  0.247998  0.771679  0.909412 -0.689281 -0.327642   \n",
       "3  0.377436 -1.387024  ... -0.108300  0.005274 -0.190321 -1.175575  0.647376   \n",
       "4 -0.270533  0.817739  ... -0.009431  0.798278 -0.137458  0.141267 -0.206010   \n",
       "\n",
       "        V26       V27       V28  Amount  Class  \n",
       "0 -0.189115  0.133558 -0.021053  149.62      0  \n",
       "1  0.125895 -0.008983  0.014724    2.69      0  \n",
       "2 -0.139097 -0.055353 -0.059752  378.66      0  \n",
       "3 -0.221929  0.062723  0.061458  123.50      0  \n",
       "4  0.502292  0.219422  0.215153   69.99      0  \n",
       "\n",
       "[5 rows x 31 columns]"
      ]
     },
     "execution_count": 2,
     "metadata": {},
     "output_type": "execute_result"
    }
   ],
   "source": [
    "# Read the dataset \n",
    "df = pd.read_csv(creditcard)\n",
    "df.head()"
   ]
  },
  {
   "cell_type": "markdown",
   "id": "0df9c83c",
   "metadata": {
    "papermill": {
     "duration": 0.037295,
     "end_time": "2021-08-15T21:21:38.725913",
     "exception": false,
     "start_time": "2021-08-15T21:21:38.688618",
     "status": "completed"
    },
    "tags": []
   },
   "source": [
    "# **Data Cleaning and Exploratory Data Analysis**"
   ]
  },
  {
   "cell_type": "code",
   "execution_count": 3,
   "id": "f36d26cc",
   "metadata": {
    "execution": {
     "iopub.execute_input": "2021-08-15T21:21:38.802485Z",
     "iopub.status.busy": "2021-08-15T21:21:38.801861Z",
     "iopub.status.idle": "2021-08-15T21:21:38.845063Z",
     "shell.execute_reply": "2021-08-15T21:21:38.844302Z",
     "shell.execute_reply.started": "2021-08-15T17:40:55.431960Z"
    },
    "papermill": {
     "duration": 0.082569,
     "end_time": "2021-08-15T21:21:38.845213",
     "exception": false,
     "start_time": "2021-08-15T21:21:38.762644",
     "status": "completed"
    },
    "tags": []
   },
   "outputs": [
    {
     "name": "stdout",
     "output_type": "stream",
     "text": [
      "<class 'pandas.core.frame.DataFrame'>\n",
      "RangeIndex: 284807 entries, 0 to 284806\n",
      "Data columns (total 31 columns):\n",
      " #   Column  Non-Null Count   Dtype  \n",
      "---  ------  --------------   -----  \n",
      " 0   Time    284807 non-null  float64\n",
      " 1   V1      284807 non-null  float64\n",
      " 2   V2      284807 non-null  float64\n",
      " 3   V3      284807 non-null  float64\n",
      " 4   V4      284807 non-null  float64\n",
      " 5   V5      284807 non-null  float64\n",
      " 6   V6      284807 non-null  float64\n",
      " 7   V7      284807 non-null  float64\n",
      " 8   V8      284807 non-null  float64\n",
      " 9   V9      284807 non-null  float64\n",
      " 10  V10     284807 non-null  float64\n",
      " 11  V11     284807 non-null  float64\n",
      " 12  V12     284807 non-null  float64\n",
      " 13  V13     284807 non-null  float64\n",
      " 14  V14     284807 non-null  float64\n",
      " 15  V15     284807 non-null  float64\n",
      " 16  V16     284807 non-null  float64\n",
      " 17  V17     284807 non-null  float64\n",
      " 18  V18     284807 non-null  float64\n",
      " 19  V19     284807 non-null  float64\n",
      " 20  V20     284807 non-null  float64\n",
      " 21  V21     284807 non-null  float64\n",
      " 22  V22     284807 non-null  float64\n",
      " 23  V23     284807 non-null  float64\n",
      " 24  V24     284807 non-null  float64\n",
      " 25  V25     284807 non-null  float64\n",
      " 26  V26     284807 non-null  float64\n",
      " 27  V27     284807 non-null  float64\n",
      " 28  V28     284807 non-null  float64\n",
      " 29  Amount  284807 non-null  float64\n",
      " 30  Class   284807 non-null  int64  \n",
      "dtypes: float64(30), int64(1)\n",
      "memory usage: 67.4 MB\n"
     ]
    }
   ],
   "source": [
    "# Printing quick information about the dataset\n",
    "df.info()"
   ]
  },
  {
   "cell_type": "code",
   "execution_count": 4,
   "id": "e70a4729",
   "metadata": {
    "execution": {
     "iopub.execute_input": "2021-08-15T21:21:38.925063Z",
     "iopub.status.busy": "2021-08-15T21:21:38.923878Z",
     "iopub.status.idle": "2021-08-15T21:21:38.947858Z",
     "shell.execute_reply": "2021-08-15T21:21:38.948343Z",
     "shell.execute_reply.started": "2021-08-15T17:41:01.638706Z"
    },
    "papermill": {
     "duration": 0.065922,
     "end_time": "2021-08-15T21:21:38.948540",
     "exception": false,
     "start_time": "2021-08-15T21:21:38.882618",
     "status": "completed"
    },
    "tags": []
   },
   "outputs": [
    {
     "data": {
      "text/plain": [
       "Time      0\n",
       "V1        0\n",
       "V2        0\n",
       "V3        0\n",
       "V4        0\n",
       "V5        0\n",
       "V6        0\n",
       "V7        0\n",
       "V8        0\n",
       "V9        0\n",
       "V10       0\n",
       "V11       0\n",
       "V12       0\n",
       "V13       0\n",
       "V14       0\n",
       "V15       0\n",
       "V16       0\n",
       "V17       0\n",
       "V18       0\n",
       "V19       0\n",
       "V20       0\n",
       "V21       0\n",
       "V22       0\n",
       "V23       0\n",
       "V24       0\n",
       "V25       0\n",
       "V26       0\n",
       "V27       0\n",
       "V28       0\n",
       "Amount    0\n",
       "Class     0\n",
       "dtype: int64"
      ]
     },
     "execution_count": 4,
     "metadata": {},
     "output_type": "execute_result"
    }
   ],
   "source": [
    "# Checking missing values in each column\n",
    "df.isnull().sum()"
   ]
  },
  {
   "cell_type": "code",
   "execution_count": 5,
   "id": "f8f1c787",
   "metadata": {
    "execution": {
     "iopub.execute_input": "2021-08-15T21:21:39.026441Z",
     "iopub.status.busy": "2021-08-15T21:21:39.025811Z",
     "iopub.status.idle": "2021-08-15T21:21:39.994353Z",
     "shell.execute_reply": "2021-08-15T21:21:39.993838Z",
     "shell.execute_reply.started": "2021-08-15T20:03:42.173963Z"
    },
    "papermill": {
     "duration": 1.008455,
     "end_time": "2021-08-15T21:21:39.994512",
     "exception": false,
     "start_time": "2021-08-15T21:21:38.986057",
     "status": "completed"
    },
    "tags": []
   },
   "outputs": [
    {
     "data": {
      "text/html": [
       "<div>\n",
       "<style scoped>\n",
       "    .dataframe tbody tr th:only-of-type {\n",
       "        vertical-align: middle;\n",
       "    }\n",
       "\n",
       "    .dataframe tbody tr th {\n",
       "        vertical-align: top;\n",
       "    }\n",
       "\n",
       "    .dataframe thead th {\n",
       "        text-align: right;\n",
       "    }\n",
       "</style>\n",
       "<table border=\"1\" class=\"dataframe\">\n",
       "  <thead>\n",
       "    <tr style=\"text-align: right;\">\n",
       "      <th></th>\n",
       "      <th>Time</th>\n",
       "      <th>V1</th>\n",
       "      <th>V2</th>\n",
       "      <th>V3</th>\n",
       "      <th>V4</th>\n",
       "      <th>V5</th>\n",
       "      <th>V6</th>\n",
       "      <th>V7</th>\n",
       "      <th>V8</th>\n",
       "      <th>V9</th>\n",
       "      <th>...</th>\n",
       "      <th>V21</th>\n",
       "      <th>V22</th>\n",
       "      <th>V23</th>\n",
       "      <th>V24</th>\n",
       "      <th>V25</th>\n",
       "      <th>V26</th>\n",
       "      <th>V27</th>\n",
       "      <th>V28</th>\n",
       "      <th>Amount</th>\n",
       "      <th>Class</th>\n",
       "    </tr>\n",
       "  </thead>\n",
       "  <tbody>\n",
       "    <tr>\n",
       "      <th>32</th>\n",
       "      <td>26.0</td>\n",
       "      <td>-0.529912</td>\n",
       "      <td>0.873892</td>\n",
       "      <td>1.347247</td>\n",
       "      <td>0.145457</td>\n",
       "      <td>0.414209</td>\n",
       "      <td>0.100223</td>\n",
       "      <td>0.711206</td>\n",
       "      <td>0.176066</td>\n",
       "      <td>-0.286717</td>\n",
       "      <td>...</td>\n",
       "      <td>0.046949</td>\n",
       "      <td>0.208105</td>\n",
       "      <td>-0.185548</td>\n",
       "      <td>0.001031</td>\n",
       "      <td>0.098816</td>\n",
       "      <td>-0.552904</td>\n",
       "      <td>-0.073288</td>\n",
       "      <td>0.023307</td>\n",
       "      <td>6.14</td>\n",
       "      <td>0</td>\n",
       "    </tr>\n",
       "    <tr>\n",
       "      <th>33</th>\n",
       "      <td>26.0</td>\n",
       "      <td>-0.529912</td>\n",
       "      <td>0.873892</td>\n",
       "      <td>1.347247</td>\n",
       "      <td>0.145457</td>\n",
       "      <td>0.414209</td>\n",
       "      <td>0.100223</td>\n",
       "      <td>0.711206</td>\n",
       "      <td>0.176066</td>\n",
       "      <td>-0.286717</td>\n",
       "      <td>...</td>\n",
       "      <td>0.046949</td>\n",
       "      <td>0.208105</td>\n",
       "      <td>-0.185548</td>\n",
       "      <td>0.001031</td>\n",
       "      <td>0.098816</td>\n",
       "      <td>-0.552904</td>\n",
       "      <td>-0.073288</td>\n",
       "      <td>0.023307</td>\n",
       "      <td>6.14</td>\n",
       "      <td>0</td>\n",
       "    </tr>\n",
       "    <tr>\n",
       "      <th>34</th>\n",
       "      <td>26.0</td>\n",
       "      <td>-0.535388</td>\n",
       "      <td>0.865268</td>\n",
       "      <td>1.351076</td>\n",
       "      <td>0.147575</td>\n",
       "      <td>0.433680</td>\n",
       "      <td>0.086983</td>\n",
       "      <td>0.693039</td>\n",
       "      <td>0.179742</td>\n",
       "      <td>-0.285642</td>\n",
       "      <td>...</td>\n",
       "      <td>0.049526</td>\n",
       "      <td>0.206537</td>\n",
       "      <td>-0.187108</td>\n",
       "      <td>0.000753</td>\n",
       "      <td>0.098117</td>\n",
       "      <td>-0.553471</td>\n",
       "      <td>-0.078306</td>\n",
       "      <td>0.025427</td>\n",
       "      <td>1.77</td>\n",
       "      <td>0</td>\n",
       "    </tr>\n",
       "    <tr>\n",
       "      <th>35</th>\n",
       "      <td>26.0</td>\n",
       "      <td>-0.535388</td>\n",
       "      <td>0.865268</td>\n",
       "      <td>1.351076</td>\n",
       "      <td>0.147575</td>\n",
       "      <td>0.433680</td>\n",
       "      <td>0.086983</td>\n",
       "      <td>0.693039</td>\n",
       "      <td>0.179742</td>\n",
       "      <td>-0.285642</td>\n",
       "      <td>...</td>\n",
       "      <td>0.049526</td>\n",
       "      <td>0.206537</td>\n",
       "      <td>-0.187108</td>\n",
       "      <td>0.000753</td>\n",
       "      <td>0.098117</td>\n",
       "      <td>-0.553471</td>\n",
       "      <td>-0.078306</td>\n",
       "      <td>0.025427</td>\n",
       "      <td>1.77</td>\n",
       "      <td>0</td>\n",
       "    </tr>\n",
       "    <tr>\n",
       "      <th>112</th>\n",
       "      <td>74.0</td>\n",
       "      <td>1.038370</td>\n",
       "      <td>0.127486</td>\n",
       "      <td>0.184456</td>\n",
       "      <td>1.109950</td>\n",
       "      <td>0.441699</td>\n",
       "      <td>0.945283</td>\n",
       "      <td>-0.036715</td>\n",
       "      <td>0.350995</td>\n",
       "      <td>0.118950</td>\n",
       "      <td>...</td>\n",
       "      <td>0.102520</td>\n",
       "      <td>0.605089</td>\n",
       "      <td>0.023092</td>\n",
       "      <td>-0.626463</td>\n",
       "      <td>0.479120</td>\n",
       "      <td>-0.166937</td>\n",
       "      <td>0.081247</td>\n",
       "      <td>0.001192</td>\n",
       "      <td>1.18</td>\n",
       "      <td>0</td>\n",
       "    </tr>\n",
       "    <tr>\n",
       "      <th>...</th>\n",
       "      <td>...</td>\n",
       "      <td>...</td>\n",
       "      <td>...</td>\n",
       "      <td>...</td>\n",
       "      <td>...</td>\n",
       "      <td>...</td>\n",
       "      <td>...</td>\n",
       "      <td>...</td>\n",
       "      <td>...</td>\n",
       "      <td>...</td>\n",
       "      <td>...</td>\n",
       "      <td>...</td>\n",
       "      <td>...</td>\n",
       "      <td>...</td>\n",
       "      <td>...</td>\n",
       "      <td>...</td>\n",
       "      <td>...</td>\n",
       "      <td>...</td>\n",
       "      <td>...</td>\n",
       "      <td>...</td>\n",
       "      <td>...</td>\n",
       "    </tr>\n",
       "    <tr>\n",
       "      <th>283485</th>\n",
       "      <td>171627.0</td>\n",
       "      <td>-1.457978</td>\n",
       "      <td>1.378203</td>\n",
       "      <td>0.811515</td>\n",
       "      <td>-0.603760</td>\n",
       "      <td>-0.711883</td>\n",
       "      <td>-0.471672</td>\n",
       "      <td>-0.282535</td>\n",
       "      <td>0.880654</td>\n",
       "      <td>0.052808</td>\n",
       "      <td>...</td>\n",
       "      <td>0.284205</td>\n",
       "      <td>0.949659</td>\n",
       "      <td>-0.216949</td>\n",
       "      <td>0.083250</td>\n",
       "      <td>0.044944</td>\n",
       "      <td>0.639933</td>\n",
       "      <td>0.219432</td>\n",
       "      <td>0.116772</td>\n",
       "      <td>11.93</td>\n",
       "      <td>0</td>\n",
       "    </tr>\n",
       "    <tr>\n",
       "      <th>284190</th>\n",
       "      <td>172233.0</td>\n",
       "      <td>-2.667936</td>\n",
       "      <td>3.160505</td>\n",
       "      <td>-3.355984</td>\n",
       "      <td>1.007845</td>\n",
       "      <td>-0.377397</td>\n",
       "      <td>-0.109730</td>\n",
       "      <td>-0.667233</td>\n",
       "      <td>2.309700</td>\n",
       "      <td>-1.639306</td>\n",
       "      <td>...</td>\n",
       "      <td>0.391483</td>\n",
       "      <td>0.266536</td>\n",
       "      <td>-0.079853</td>\n",
       "      <td>-0.096395</td>\n",
       "      <td>0.086719</td>\n",
       "      <td>-0.451128</td>\n",
       "      <td>-1.183743</td>\n",
       "      <td>-0.222200</td>\n",
       "      <td>55.66</td>\n",
       "      <td>0</td>\n",
       "    </tr>\n",
       "    <tr>\n",
       "      <th>284191</th>\n",
       "      <td>172233.0</td>\n",
       "      <td>-2.667936</td>\n",
       "      <td>3.160505</td>\n",
       "      <td>-3.355984</td>\n",
       "      <td>1.007845</td>\n",
       "      <td>-0.377397</td>\n",
       "      <td>-0.109730</td>\n",
       "      <td>-0.667233</td>\n",
       "      <td>2.309700</td>\n",
       "      <td>-1.639306</td>\n",
       "      <td>...</td>\n",
       "      <td>0.391483</td>\n",
       "      <td>0.266536</td>\n",
       "      <td>-0.079853</td>\n",
       "      <td>-0.096395</td>\n",
       "      <td>0.086719</td>\n",
       "      <td>-0.451128</td>\n",
       "      <td>-1.183743</td>\n",
       "      <td>-0.222200</td>\n",
       "      <td>55.66</td>\n",
       "      <td>0</td>\n",
       "    </tr>\n",
       "    <tr>\n",
       "      <th>284192</th>\n",
       "      <td>172233.0</td>\n",
       "      <td>-2.691642</td>\n",
       "      <td>3.123168</td>\n",
       "      <td>-3.339407</td>\n",
       "      <td>1.017018</td>\n",
       "      <td>-0.293095</td>\n",
       "      <td>-0.167054</td>\n",
       "      <td>-0.745886</td>\n",
       "      <td>2.325616</td>\n",
       "      <td>-1.634651</td>\n",
       "      <td>...</td>\n",
       "      <td>0.402639</td>\n",
       "      <td>0.259746</td>\n",
       "      <td>-0.086606</td>\n",
       "      <td>-0.097597</td>\n",
       "      <td>0.083693</td>\n",
       "      <td>-0.453584</td>\n",
       "      <td>-1.205466</td>\n",
       "      <td>-0.213020</td>\n",
       "      <td>36.74</td>\n",
       "      <td>0</td>\n",
       "    </tr>\n",
       "    <tr>\n",
       "      <th>284193</th>\n",
       "      <td>172233.0</td>\n",
       "      <td>-2.691642</td>\n",
       "      <td>3.123168</td>\n",
       "      <td>-3.339407</td>\n",
       "      <td>1.017018</td>\n",
       "      <td>-0.293095</td>\n",
       "      <td>-0.167054</td>\n",
       "      <td>-0.745886</td>\n",
       "      <td>2.325616</td>\n",
       "      <td>-1.634651</td>\n",
       "      <td>...</td>\n",
       "      <td>0.402639</td>\n",
       "      <td>0.259746</td>\n",
       "      <td>-0.086606</td>\n",
       "      <td>-0.097597</td>\n",
       "      <td>0.083693</td>\n",
       "      <td>-0.453584</td>\n",
       "      <td>-1.205466</td>\n",
       "      <td>-0.213020</td>\n",
       "      <td>36.74</td>\n",
       "      <td>0</td>\n",
       "    </tr>\n",
       "  </tbody>\n",
       "</table>\n",
       "<p>1854 rows × 31 columns</p>\n",
       "</div>"
      ],
      "text/plain": [
       "            Time        V1        V2        V3        V4        V5        V6  \\\n",
       "32          26.0 -0.529912  0.873892  1.347247  0.145457  0.414209  0.100223   \n",
       "33          26.0 -0.529912  0.873892  1.347247  0.145457  0.414209  0.100223   \n",
       "34          26.0 -0.535388  0.865268  1.351076  0.147575  0.433680  0.086983   \n",
       "35          26.0 -0.535388  0.865268  1.351076  0.147575  0.433680  0.086983   \n",
       "112         74.0  1.038370  0.127486  0.184456  1.109950  0.441699  0.945283   \n",
       "...          ...       ...       ...       ...       ...       ...       ...   \n",
       "283485  171627.0 -1.457978  1.378203  0.811515 -0.603760 -0.711883 -0.471672   \n",
       "284190  172233.0 -2.667936  3.160505 -3.355984  1.007845 -0.377397 -0.109730   \n",
       "284191  172233.0 -2.667936  3.160505 -3.355984  1.007845 -0.377397 -0.109730   \n",
       "284192  172233.0 -2.691642  3.123168 -3.339407  1.017018 -0.293095 -0.167054   \n",
       "284193  172233.0 -2.691642  3.123168 -3.339407  1.017018 -0.293095 -0.167054   \n",
       "\n",
       "              V7        V8        V9  ...       V21       V22       V23  \\\n",
       "32      0.711206  0.176066 -0.286717  ...  0.046949  0.208105 -0.185548   \n",
       "33      0.711206  0.176066 -0.286717  ...  0.046949  0.208105 -0.185548   \n",
       "34      0.693039  0.179742 -0.285642  ...  0.049526  0.206537 -0.187108   \n",
       "35      0.693039  0.179742 -0.285642  ...  0.049526  0.206537 -0.187108   \n",
       "112    -0.036715  0.350995  0.118950  ...  0.102520  0.605089  0.023092   \n",
       "...          ...       ...       ...  ...       ...       ...       ...   \n",
       "283485 -0.282535  0.880654  0.052808  ...  0.284205  0.949659 -0.216949   \n",
       "284190 -0.667233  2.309700 -1.639306  ...  0.391483  0.266536 -0.079853   \n",
       "284191 -0.667233  2.309700 -1.639306  ...  0.391483  0.266536 -0.079853   \n",
       "284192 -0.745886  2.325616 -1.634651  ...  0.402639  0.259746 -0.086606   \n",
       "284193 -0.745886  2.325616 -1.634651  ...  0.402639  0.259746 -0.086606   \n",
       "\n",
       "             V24       V25       V26       V27       V28  Amount  Class  \n",
       "32      0.001031  0.098816 -0.552904 -0.073288  0.023307    6.14      0  \n",
       "33      0.001031  0.098816 -0.552904 -0.073288  0.023307    6.14      0  \n",
       "34      0.000753  0.098117 -0.553471 -0.078306  0.025427    1.77      0  \n",
       "35      0.000753  0.098117 -0.553471 -0.078306  0.025427    1.77      0  \n",
       "112    -0.626463  0.479120 -0.166937  0.081247  0.001192    1.18      0  \n",
       "...          ...       ...       ...       ...       ...     ...    ...  \n",
       "283485  0.083250  0.044944  0.639933  0.219432  0.116772   11.93      0  \n",
       "284190 -0.096395  0.086719 -0.451128 -1.183743 -0.222200   55.66      0  \n",
       "284191 -0.096395  0.086719 -0.451128 -1.183743 -0.222200   55.66      0  \n",
       "284192 -0.097597  0.083693 -0.453584 -1.205466 -0.213020   36.74      0  \n",
       "284193 -0.097597  0.083693 -0.453584 -1.205466 -0.213020   36.74      0  \n",
       "\n",
       "[1854 rows x 31 columns]"
      ]
     },
     "execution_count": 5,
     "metadata": {},
     "output_type": "execute_result"
    }
   ],
   "source": [
    "# Identify duplicate values and mark all the duplicates as true\n",
    "# https://pandas.pydata.org/docs/reference/api/pandas.DataFrame.duplicated.html\n",
    "df[df.duplicated(keep=False)]"
   ]
  },
  {
   "cell_type": "markdown",
   "id": "1f90b296",
   "metadata": {
    "papermill": {
     "duration": 0.038674,
     "end_time": "2021-08-15T21:21:40.071913",
     "exception": false,
     "start_time": "2021-08-15T21:21:40.033239",
     "status": "completed"
    },
    "tags": []
   },
   "source": [
    "From the result above, we can see that the dataset contains many duplicate values. So, I'm going to remove the repeated observations except for the first occurrence of each instance."
   ]
  },
  {
   "cell_type": "code",
   "execution_count": 6,
   "id": "0f2c0f0b",
   "metadata": {
    "execution": {
     "iopub.execute_input": "2021-08-15T21:21:40.153385Z",
     "iopub.status.busy": "2021-08-15T21:21:40.152724Z",
     "iopub.status.idle": "2021-08-15T21:21:41.037738Z",
     "shell.execute_reply": "2021-08-15T21:21:41.037108Z",
     "shell.execute_reply.started": "2021-08-15T20:03:47.888825Z"
    },
    "papermill": {
     "duration": 0.927719,
     "end_time": "2021-08-15T21:21:41.037884",
     "exception": false,
     "start_time": "2021-08-15T21:21:40.110165",
     "status": "completed"
    },
    "tags": []
   },
   "outputs": [],
   "source": [
    "# https://pandas.pydata.org/docs/reference/api/pandas.DataFrame.drop_duplicates.html\n",
    "df = df.drop_duplicates(keep='first')"
   ]
  },
  {
   "cell_type": "code",
   "execution_count": 7,
   "id": "5d13bdcb",
   "metadata": {
    "execution": {
     "iopub.execute_input": "2021-08-15T21:21:41.119095Z",
     "iopub.status.busy": "2021-08-15T21:21:41.118407Z",
     "iopub.status.idle": "2021-08-15T21:21:41.125909Z",
     "shell.execute_reply": "2021-08-15T21:21:41.126520Z",
     "shell.execute_reply.started": "2021-08-15T17:41:15.749811Z"
    },
    "papermill": {
     "duration": 0.050446,
     "end_time": "2021-08-15T21:21:41.126683",
     "exception": false,
     "start_time": "2021-08-15T21:21:41.076237",
     "status": "completed"
    },
    "tags": []
   },
   "outputs": [
    {
     "data": {
      "text/plain": [
       "0    283253\n",
       "1       473\n",
       "Name: Class, dtype: int64"
      ]
     },
     "execution_count": 7,
     "metadata": {},
     "output_type": "execute_result"
    }
   ],
   "source": [
    "# Check the distribution of the credit card fraud cases \n",
    "class_proportion = df['Class'].value_counts()\n",
    "class_proportion"
   ]
  },
  {
   "cell_type": "code",
   "execution_count": 8,
   "id": "f0454a43",
   "metadata": {
    "execution": {
     "iopub.execute_input": "2021-08-15T21:21:41.207256Z",
     "iopub.status.busy": "2021-08-15T21:21:41.206655Z",
     "iopub.status.idle": "2021-08-15T21:21:41.898620Z",
     "shell.execute_reply": "2021-08-15T21:21:41.898055Z",
     "shell.execute_reply.started": "2021-08-15T17:41:20.838490Z"
    },
    "papermill": {
     "duration": 0.73356,
     "end_time": "2021-08-15T21:21:41.898766",
     "exception": false,
     "start_time": "2021-08-15T21:21:41.165206",
     "status": "completed"
    },
    "tags": []
   },
   "outputs": [
    {
     "data": {
      "image/png": "[encoded data removed]",
      "text/plain": [
       "<Figure size 864x576 with 1 Axes>"
      ]
     },
     "metadata": {},
     "output_type": "display_data"
    }
   ],
   "source": [
    "# Plotting a barchart to see the the distribution of the credit card fraud cases\n",
    "plt.style.use('seaborn')\n",
    "font1 = {'family': 'serif', \n",
    "        'fontstyle': 'italic',\n",
    "        'fontsize': 16,\n",
    "        'fontweight': 'bold',\n",
    "        'color': 'DarkBlue'}\n",
    "font2 = {'weight': 'bold', 'size': 12}\n",
    "font3 = {'weight': 'normal', 'size': 12}\n",
    "\n",
    "fig, ax = plt.subplots(figsize=(12, 8))\n",
    "sns.barplot(class_proportion.index, class_proportion.values, palette='Set2')\n",
    "ax.set_title('Distribution of Credit Card Fraud Class', fontdict=font1)\n",
    "ax.set_xlabel('Fraud class', fontdict=font2)\n",
    "ax.set_xticklabels(ax.get_xticklabels(), rotation=0)\n",
    "ax.set_ylabel('Number of transactions', fontdict=font2)\n",
    "ax.set_yscale('log')\n",
    "handles, labels = ax.get_legend_handles_labels()\n",
    "ax.legend(handles, labels=['0: No Fraud', '1: Fraud'], prop= font3, \n",
    "          title ='Fraud Class:', title_fontsize=14,\n",
    "          frameon=True, facecolor='white')\n",
    "plt.show()"
   ]
  },
  {
   "cell_type": "markdown",
   "id": "f42a5570",
   "metadata": {
    "papermill": {
     "duration": 0.039917,
     "end_time": "2021-08-15T21:21:41.978951",
     "exception": false,
     "start_time": "2021-08-15T21:21:41.939034",
     "status": "completed"
    },
    "tags": []
   },
   "source": [
    "From the barchart, we can see that the number of legitimate credit card transactions is extremely higher the number of fraudulent transactions. This is obviously expected because fraud detection is one of the problem domains where the class distribution is inherently imbalanced. I would have been surprised if the fraudulent transactions happened to be higher the legitimate ones because it indicates that these banking institutions were facing serious security breaches which could lead to loss of revenue, interruptions in operations and loss of both reputation and customers. Anyways, we need to deal with this huge data imbalance as it can hamper the accuracy of our classification model."
   ]
  },
  {
   "cell_type": "markdown",
   "id": "26787414",
   "metadata": {
    "papermill": {
     "duration": 0.03954,
     "end_time": "2021-08-15T21:21:42.059167",
     "exception": false,
     "start_time": "2021-08-15T21:21:42.019627",
     "status": "completed"
    },
    "tags": []
   },
   "source": [
    "# **Feature Engineering and Data Modeling**"
   ]
  },
  {
   "cell_type": "code",
   "execution_count": 9,
   "id": "6d0a819a",
   "metadata": {
    "execution": {
     "iopub.execute_input": "2021-08-15T21:21:42.143601Z",
     "iopub.status.busy": "2021-08-15T21:21:42.142849Z",
     "iopub.status.idle": "2021-08-15T21:21:42.165823Z",
     "shell.execute_reply": "2021-08-15T21:21:42.166283Z",
     "shell.execute_reply.started": "2021-08-15T17:41:28.655415Z"
    },
    "papermill": {
     "duration": 0.067401,
     "end_time": "2021-08-15T21:21:42.166452",
     "exception": false,
     "start_time": "2021-08-15T21:21:42.099051",
     "status": "completed"
    },
    "tags": []
   },
   "outputs": [
    {
     "data": {
      "text/plain": [
       "0    0.998333\n",
       "1    0.001667\n",
       "Name: Class, dtype: float64"
      ]
     },
     "execution_count": 9,
     "metadata": {},
     "output_type": "execute_result"
    }
   ],
   "source": [
    "# Check the proportion of the fraud cases and identify the imbalance\n",
    "df['Class'].value_counts(normalize=True)"
   ]
  },
  {
   "cell_type": "markdown",
   "id": "142aad2f",
   "metadata": {
    "papermill": {
     "duration": 0.039453,
     "end_time": "2021-08-15T21:21:42.248034",
     "exception": false,
     "start_time": "2021-08-15T21:21:42.208581",
     "status": "completed"
    },
    "tags": []
   },
   "source": [
    "From the above result, we can observe that the number of fraudulent transactions is relatively rare. It only makes up about 0.2% of the entire transactions. This is super imbalanced. If we take this proportion as a baseline model, we will get a pretty high accuracy of 99.8% by creating a model which just predicts everything to be 0 whatever input data comes in. But this will fail to capture the minority class, although typically it is the model performance on the minority class which is the most important.\n",
    "\n",
    "To summarize, in a dataset with highly imbalanced cases, accuracy score can be misleading because a high accuracy rate is achieved not because our model is any good but simply because the classifier algorithm will always predict the majority class without performing any analysis of the features."
   ]
  },
  {
   "cell_type": "code",
   "execution_count": 10,
   "id": "f0c16f39",
   "metadata": {
    "execution": {
     "iopub.execute_input": "2021-08-15T21:21:42.330936Z",
     "iopub.status.busy": "2021-08-15T21:21:42.330317Z",
     "iopub.status.idle": "2021-08-15T21:21:42.364669Z",
     "shell.execute_reply": "2021-08-15T21:21:42.364058Z",
     "shell.execute_reply.started": "2021-08-15T20:04:07.633284Z"
    },
    "papermill": {
     "duration": 0.076795,
     "end_time": "2021-08-15T21:21:42.364823",
     "exception": false,
     "start_time": "2021-08-15T21:21:42.288028",
     "status": "completed"
    },
    "tags": []
   },
   "outputs": [],
   "source": [
    "# Arrange the dataset into features matrix and target vector\n",
    "# Drop the 'Time' variable as it does not that much help our analysis\n",
    "X = df.drop(columns=(['Time', 'Class']))\n",
    "y = df['Class']"
   ]
  },
  {
   "cell_type": "markdown",
   "id": "2d8825b5",
   "metadata": {
    "papermill": {
     "duration": 0.04012,
     "end_time": "2021-08-15T21:21:42.445036",
     "exception": false,
     "start_time": "2021-08-15T21:21:42.404916",
     "status": "completed"
    },
    "tags": []
   },
   "source": [
    "**Balancing out the dataset with resampling techniques**\n",
    "\n",
    ">There are many approaches to solve this type of highly imbalanced binary classification problem. The simplest and most widely adopted techniques are undersampling and oversampling. The former involves removing some records from the majority class, while the latter is adding more random copies to the minority class. Both techniques are done until the majority and minority class is balanced out. But I'm going to oversample the minority class using Synthetic Minority Oversampling Technique(SMOTE). This is a more sophisticated resampling technique which introduces small variations into the copies of the minority class observations instead of those exact copies, generating more diverse sythetic samples. The SMOTE class lives in the imblearn.over_sampling module of the Python imbalanced-learn libray(imported as imblearn), which in fact relies on scikit-learn(imported as sklearn) and is part of scikit-learn-contrib projects."
   ]
  },
  {
   "cell_type": "code",
   "execution_count": 11,
   "id": "36e245a0",
   "metadata": {
    "execution": {
     "iopub.execute_input": "2021-08-15T21:21:42.531871Z",
     "iopub.status.busy": "2021-08-15T21:21:42.531190Z",
     "iopub.status.idle": "2021-08-15T21:21:43.073824Z",
     "shell.execute_reply": "2021-08-15T21:21:43.073272Z",
     "shell.execute_reply.started": "2021-08-15T20:04:13.095200Z"
    },
    "papermill": {
     "duration": 0.588665,
     "end_time": "2021-08-15T21:21:43.073969",
     "exception": false,
     "start_time": "2021-08-15T21:21:42.485304",
     "status": "completed"
    },
    "tags": []
   },
   "outputs": [],
   "source": [
    "# Make a SMOTE instance, then fit and apply it in one step \n",
    "# to create an oversampled version of our dataset.\n",
    "\n",
    "sm = SMOTE(sampling_strategy='auto', random_state=3, k_neighbors=5)\n",
    "X_oversampled , y_oversampled = sm.fit_resample(X, y)"
   ]
  },
  {
   "cell_type": "code",
   "execution_count": 12,
   "id": "ca7e0c0f",
   "metadata": {
    "execution": {
     "iopub.execute_input": "2021-08-15T21:21:43.160554Z",
     "iopub.status.busy": "2021-08-15T21:21:43.159875Z",
     "iopub.status.idle": "2021-08-15T21:21:43.180370Z",
     "shell.execute_reply": "2021-08-15T21:21:43.179819Z",
     "shell.execute_reply.started": "2021-08-15T17:42:15.327427Z"
    },
    "papermill": {
     "duration": 0.065295,
     "end_time": "2021-08-15T21:21:43.180518",
     "exception": false,
     "start_time": "2021-08-15T21:21:43.115223",
     "status": "completed"
    },
    "tags": []
   },
   "outputs": [
    {
     "name": "stdout",
     "output_type": "stream",
     "text": [
      "Original fraud class distribution: {0: 283253, 1: 473}\n",
      "New transformed fraud class distribution: {0: 283253, 1: 283253}\n"
     ]
    }
   ],
   "source": [
    "# Summarize the fraud class distribution of the new SMOTE-transformed dataset\n",
    "unique_original, counts_original = np.unique(y, return_counts=True)\n",
    "unique_oversampled, counts_oversampled = np.unique(y_oversampled, return_counts=True)\n",
    "\n",
    "print('Original fraud class distribution:', dict(zip(unique_original, counts_original)))\n",
    "print('New transformed fraud class distribution:',dict(zip(unique_oversampled, counts_oversampled)))"
   ]
  },
  {
   "cell_type": "code",
   "execution_count": 13,
   "id": "7ee29e51",
   "metadata": {
    "execution": {
     "iopub.execute_input": "2021-08-15T21:21:43.265376Z",
     "iopub.status.busy": "2021-08-15T21:21:43.264755Z",
     "iopub.status.idle": "2021-08-15T21:21:43.441245Z",
     "shell.execute_reply": "2021-08-15T21:21:43.440627Z",
     "shell.execute_reply.started": "2021-08-15T17:42:22.040329Z"
    },
    "papermill": {
     "duration": 0.219359,
     "end_time": "2021-08-15T21:21:43.441394",
     "exception": false,
     "start_time": "2021-08-15T21:21:43.222035",
     "status": "completed"
    },
    "tags": []
   },
   "outputs": [
    {
     "data": {
      "image/png": "[encoded data removed]",
      "text/plain": [
       "<Figure size 864x576 with 1 Axes>"
      ]
     },
     "metadata": {},
     "output_type": "display_data"
    }
   ],
   "source": [
    "# Now visualize the SMOTE-transformed target variable\n",
    "plt.style.use('seaborn')\n",
    "font1 = {'family': 'serif', \n",
    "        'fontstyle': 'italic',\n",
    "        'fontsize': 16,\n",
    "        'fontweight': 'bold',\n",
    "        'color': 'DarkBlue'}\n",
    "font2 = {'weight': 'bold', 'size': 12}\n",
    "\n",
    "fig, ax = plt.subplots(figsize=(12, 8))\n",
    "sns.countplot(y_oversampled, palette='Set2', ax=ax)\n",
    "ax.set_title('Distribution of Imbalanced Fraud Class Transformed by SMOTE', fontdict=font1)\n",
    "ax.set_xlabel('Fraud class', fontdict=font2)\n",
    "ax.set_xticklabels(['Non-fraudulent', 'Fraudulent'])\n",
    "ax.set_ylabel('Number of transactions', fontdict=font2)\n",
    "plt.show()"
   ]
  },
  {
   "cell_type": "markdown",
   "id": "cc2e7469",
   "metadata": {
    "papermill": {
     "duration": 0.041689,
     "end_time": "2021-08-15T21:21:43.526663",
     "exception": false,
     "start_time": "2021-08-15T21:21:43.484974",
     "status": "completed"
    },
    "tags": []
   },
   "source": [
    "From the class distribution summary and barchart above, we can see the dataset is transformed using the SMOTE and the new class distribution is is balaced, having now with equal samples in the minority class."
   ]
  },
  {
   "cell_type": "markdown",
   "id": "05ef57f8",
   "metadata": {
    "papermill": {
     "duration": 0.04204,
     "end_time": "2021-08-15T21:21:43.610197",
     "exception": false,
     "start_time": "2021-08-15T21:21:43.568157",
     "status": "completed"
    },
    "tags": []
   },
   "source": [
    "# **Random Forest Classifier(RFC) Model**"
   ]
  },
  {
   "cell_type": "code",
   "execution_count": 14,
   "id": "02f6d546",
   "metadata": {
    "execution": {
     "iopub.execute_input": "2021-08-15T21:21:43.698890Z",
     "iopub.status.busy": "2021-08-15T21:21:43.698159Z",
     "iopub.status.idle": "2021-08-15T21:21:43.910293Z",
     "shell.execute_reply": "2021-08-15T21:21:43.910787Z",
     "shell.execute_reply.started": "2021-08-15T20:04:19.728368Z"
    },
    "papermill": {
     "duration": 0.25923,
     "end_time": "2021-08-15T21:21:43.910973",
     "exception": false,
     "start_time": "2021-08-15T21:21:43.651743",
     "status": "completed"
    },
    "tags": []
   },
   "outputs": [],
   "source": [
    "# Separate the transformed features matrix and target vector into random train and test subsets\n",
    "X_train, X_test, y_train, y_test = train_test_split(X_oversampled, y_oversampled, random_state=3)"
   ]
  },
  {
   "cell_type": "code",
   "execution_count": 15,
   "id": "c3d1c9dc",
   "metadata": {
    "execution": {
     "iopub.execute_input": "2021-08-15T21:21:43.997362Z",
     "iopub.status.busy": "2021-08-15T21:21:43.996735Z",
     "iopub.status.idle": "2021-08-15T21:32:59.953803Z",
     "shell.execute_reply": "2021-08-15T21:32:59.954342Z",
     "shell.execute_reply.started": "2021-08-15T20:04:22.359430Z"
    },
    "papermill": {
     "duration": 676.001768,
     "end_time": "2021-08-15T21:32:59.954541",
     "exception": false,
     "start_time": "2021-08-15T21:21:43.952773",
     "status": "completed"
    },
    "tags": []
   },
   "outputs": [
    {
     "data": {
      "text/plain": [
       "RandomForestClassifier(n_estimators=150)"
      ]
     },
     "execution_count": 15,
     "metadata": {},
     "output_type": "execute_result"
    }
   ],
   "source": [
    "# Instantiate and fit the model\n",
    "rfc = RandomForestClassifier(n_estimators=150)\n",
    "rfc.fit(X_train, y_train)"
   ]
  },
  {
   "cell_type": "code",
   "execution_count": 16,
   "id": "1cd33e1b",
   "metadata": {
    "execution": {
     "iopub.execute_input": "2021-08-15T21:33:00.046595Z",
     "iopub.status.busy": "2021-08-15T21:33:00.045939Z",
     "iopub.status.idle": "2021-08-15T21:33:11.600652Z",
     "shell.execute_reply": "2021-08-15T21:33:11.599516Z",
     "shell.execute_reply.started": "2021-08-15T17:53:41.139103Z"
    },
    "papermill": {
     "duration": 11.604045,
     "end_time": "2021-08-15T21:33:11.600881",
     "exception": false,
     "start_time": "2021-08-15T21:32:59.996836",
     "status": "completed"
    },
    "tags": []
   },
   "outputs": [
    {
     "name": "stdout",
     "output_type": "stream",
     "text": [
      "Training RFC Accuracy: 1.0\n",
      "Testing RFC Accuracy: 0.9998658447894823\n"
     ]
    }
   ],
   "source": [
    "# Model Evalution -classification accuracy\n",
    "training_rfc_accuracy = rfc.score(X_train, y_train)\n",
    "testing_rfc_accuracy = rfc.score(X_test, y_test)\n",
    "\n",
    "print(\"Training RFC Accuracy:\", training_rfc_accuracy)\n",
    "print(\"Testing RFC Accuracy:\", testing_rfc_accuracy )"
   ]
  },
  {
   "cell_type": "markdown",
   "id": "eebe7cd2",
   "metadata": {
    "papermill": {
     "duration": 0.042456,
     "end_time": "2021-08-15T21:33:11.687574",
     "exception": false,
     "start_time": "2021-08-15T21:33:11.645118",
     "status": "completed"
    },
    "tags": []
   },
   "source": [
    "Earlier I mentioned that accuracy can be a misleading metric to evaluate a model for a dataset with highly imbalanced classes. But in our case, I've managed to beat the baseline model accuracy score(99.80%). From the result above, we can see that the accuracy score I got is about 99.99%, which is higher than the baseline model accuracy score.\n",
    "\n",
    "Next, I will be using the following four most useful metrics to evaluate the performance of a model for highly imbalanced binary-class datasets:\n",
    "\n",
    "1. Sensitivity (True Positive Rate)\n",
    "2. Specificity (True Negative Rate)\n",
    "3. Precision (Positive Predictive Value)\n",
    "4. Area Under ROC Curve (AUROC)"
   ]
  },
  {
   "cell_type": "code",
   "execution_count": 17,
   "id": "eab50b63",
   "metadata": {
    "execution": {
     "iopub.execute_input": "2021-08-15T21:33:11.776312Z",
     "iopub.status.busy": "2021-08-15T21:33:11.775663Z",
     "iopub.status.idle": "2021-08-15T21:33:15.056397Z",
     "shell.execute_reply": "2021-08-15T21:33:15.056969Z",
     "shell.execute_reply.started": "2021-08-15T17:54:02.841171Z"
    },
    "papermill": {
     "duration": 3.326077,
     "end_time": "2021-08-15T21:33:15.057131",
     "exception": false,
     "start_time": "2021-08-15T21:33:11.731054",
     "status": "completed"
    },
    "tags": []
   },
   "outputs": [
    {
     "data": {
      "image/png": "[encoded data removed]",
      "text/plain": [
       "<Figure size 576x576 with 2 Axes>"
      ]
     },
     "metadata": {},
     "output_type": "display_data"
    }
   ],
   "source": [
    "# Plotting the confusion matrix \n",
    "fig, ax = plt.subplots(figsize=(8, 8))\n",
    "font1 = {'family': 'serif', \n",
    "        'fontstyle': 'italic',\n",
    "        'fontsize': 16,\n",
    "        'fontweight': 'bold',\n",
    "        'color': 'DarkRed'}\n",
    "font2 = {'weight': 'bold', 'size': 12}\n",
    "\n",
    "sns.heatmap(confusion_matrix(y_test, rfc.predict(X_test)), \n",
    "            cmap='Blues', \n",
    "            square=True,\n",
    "            annot=True,\n",
    "            fmt='d',\n",
    "            cbar_kws={'shrink': 0.8},\n",
    "            xticklabels=['Predicted 0s', 'Predicted 1s'],\n",
    "            yticklabels=['Actual 0s', 'Actual 1s'])\n",
    "ax.set_title('Confusion Matrix', fontdict=font1)\n",
    "plt.show()"
   ]
  },
  {
   "cell_type": "code",
   "execution_count": 18,
   "id": "83ca4ff1",
   "metadata": {
    "execution": {
     "iopub.execute_input": "2021-08-15T21:33:15.148995Z",
     "iopub.status.busy": "2021-08-15T21:33:15.148310Z",
     "iopub.status.idle": "2021-08-15T21:33:18.253348Z",
     "shell.execute_reply": "2021-08-15T21:33:18.254048Z",
     "shell.execute_reply.started": "2021-08-15T17:54:12.745715Z"
    },
    "papermill": {
     "duration": 3.152811,
     "end_time": "2021-08-15T21:33:18.254260",
     "exception": false,
     "start_time": "2021-08-15T21:33:15.101449",
     "status": "completed"
    },
    "tags": []
   },
   "outputs": [
    {
     "name": "stdout",
     "output_type": "stream",
     "text": [
      "True Negatives: 70609\n",
      "False Positives: 19\n",
      "False Negatives: 0\n",
      "True Positives: 70999\n",
      "\n",
      "Sensitivity: 1.0\n",
      "Specificity: 0.9997309848785184\n",
      "Precision: 0.9997324621926835\n"
     ]
    }
   ],
   "source": [
    "# Model evaluation - Sensitivity, Specificity and Precision \n",
    "\n",
    "TN, FP, FN, TP = confusion_matrix(y_test, rfc.predict(X_test)).flatten()\n",
    "print(\"True Negatives:\", TN)\n",
    "print(\"False Positives:\", FP)\n",
    "print(\"False Negatives:\", FN)\n",
    "print(\"True Positives:\", TP)\n",
    "\n",
    "sensitivity = TP/(TP + FN)\n",
    "specificity = TN/(TN + FP)\n",
    "precision = TP/(TP + FP)\n",
    "print(\"\\nSensitivity:\", sensitivity)\n",
    "print(\"Specificity:\", specificity)\n",
    "print(\"Precision:\", precision)"
   ]
  },
  {
   "cell_type": "markdown",
   "id": "5a702027",
   "metadata": {
    "papermill": {
     "duration": 0.043192,
     "end_time": "2021-08-15T21:33:18.342205",
     "exception": false,
     "start_time": "2021-08-15T21:33:18.299013",
     "status": "completed"
    },
    "tags": []
   },
   "source": [
    "From the confusion matrix and the statistics above, we can see that our model is 100% accurate in detecting fraud. This means our model is very highly sensitive, which is in fact what the banking institutions may be more concerned for because a false negative is more dangerous than a false positive.\n",
    "\n",
    "Of course, in a credit card fraud detection system, a smart model with good classification accuracy rate should also have significantly less false positives because the errors can cost the banks billions of dollars in lost revenue as customers getting declined in legitimate transactions may get frustrated and then refrain from using that credit card anymore."
   ]
  },
  {
   "cell_type": "code",
   "execution_count": 19,
   "id": "799343b5",
   "metadata": {
    "execution": {
     "iopub.execute_input": "2021-08-15T21:33:18.431900Z",
     "iopub.status.busy": "2021-08-15T21:33:18.431265Z",
     "iopub.status.idle": "2021-08-15T21:33:21.389872Z",
     "shell.execute_reply": "2021-08-15T21:33:21.390401Z",
     "shell.execute_reply.started": "2021-08-15T17:54:22.137270Z"
    },
    "papermill": {
     "duration": 3.004934,
     "end_time": "2021-08-15T21:33:21.390585",
     "exception": false,
     "start_time": "2021-08-15T21:33:18.385651",
     "status": "completed"
    },
    "tags": []
   },
   "outputs": [
    {
     "data": {
      "text/plain": [
       "array([[0.        , 1.        ],\n",
       "       [0.        , 1.        ],\n",
       "       [0.        , 1.        ],\n",
       "       ...,\n",
       "       [0.99333333, 0.00666667],\n",
       "       [0.99333333, 0.00666667],\n",
       "       [0.        , 1.        ]])"
      ]
     },
     "execution_count": 19,
     "metadata": {},
     "output_type": "execute_result"
    }
   ],
   "source": [
    "# Check the predicted probabilities for every observation in the test data subset \n",
    "# Note that the default classification threshold is 0.5\n",
    "\n",
    "testing_probabilities= rfc.predict_proba(X_test)\n",
    "testing_probabilities"
   ]
  },
  {
   "cell_type": "markdown",
   "id": "3f63565b",
   "metadata": {
    "papermill": {
     "duration": 0.045229,
     "end_time": "2021-08-15T21:33:21.480205",
     "exception": false,
     "start_time": "2021-08-15T21:33:21.434976",
     "status": "completed"
    },
    "tags": []
   },
   "source": [
    "As we can see from the above result, the matrix of probabilities being returned indicates the predicted class is equal to 0 or 1. In this matrix, each each row corresponds to a single observation: The first column is the probability of the predicted output being zero(non-fraud), that is 1 - 𝑝(𝑥_test), and the second column is the probability that the output is one(fraud), or 𝑝(𝑥_test)."
   ]
  },
  {
   "cell_type": "code",
   "execution_count": 20,
   "id": "d129725a",
   "metadata": {
    "execution": {
     "iopub.execute_input": "2021-08-15T21:33:21.572190Z",
     "iopub.status.busy": "2021-08-15T21:33:21.571579Z",
     "iopub.status.idle": "2021-08-15T21:33:21.581479Z",
     "shell.execute_reply": "2021-08-15T21:33:21.581926Z",
     "shell.execute_reply.started": "2021-08-15T17:54:29.320439Z"
    },
    "papermill": {
     "duration": 0.057284,
     "end_time": "2021-08-15T21:33:21.582093",
     "exception": false,
     "start_time": "2021-08-15T21:33:21.524809",
     "status": "completed"
    },
    "tags": []
   },
   "outputs": [
    {
     "data": {
      "text/html": [
       "<div>\n",
       "<style scoped>\n",
       "    .dataframe tbody tr th:only-of-type {\n",
       "        vertical-align: middle;\n",
       "    }\n",
       "\n",
       "    .dataframe tbody tr th {\n",
       "        vertical-align: top;\n",
       "    }\n",
       "\n",
       "    .dataframe thead th {\n",
       "        text-align: right;\n",
       "    }\n",
       "</style>\n",
       "<table border=\"1\" class=\"dataframe\">\n",
       "  <thead>\n",
       "    <tr style=\"text-align: right;\">\n",
       "      <th></th>\n",
       "      <th>1 - 𝑝(X_test)</th>\n",
       "      <th>𝑝(X_test)</th>\n",
       "    </tr>\n",
       "  </thead>\n",
       "  <tbody>\n",
       "    <tr>\n",
       "      <th>0</th>\n",
       "      <td>0.000000</td>\n",
       "      <td>1.000000</td>\n",
       "    </tr>\n",
       "    <tr>\n",
       "      <th>1</th>\n",
       "      <td>0.000000</td>\n",
       "      <td>1.000000</td>\n",
       "    </tr>\n",
       "    <tr>\n",
       "      <th>2</th>\n",
       "      <td>0.000000</td>\n",
       "      <td>1.000000</td>\n",
       "    </tr>\n",
       "    <tr>\n",
       "      <th>3</th>\n",
       "      <td>0.993333</td>\n",
       "      <td>0.006667</td>\n",
       "    </tr>\n",
       "    <tr>\n",
       "      <th>4</th>\n",
       "      <td>0.000000</td>\n",
       "      <td>1.000000</td>\n",
       "    </tr>\n",
       "  </tbody>\n",
       "</table>\n",
       "</div>"
      ],
      "text/plain": [
       "   1 - 𝑝(X_test)  𝑝(X_test)\n",
       "0       0.000000   1.000000\n",
       "1       0.000000   1.000000\n",
       "2       0.000000   1.000000\n",
       "3       0.993333   0.006667\n",
       "4       0.000000   1.000000"
      ]
     },
     "execution_count": 20,
     "metadata": {},
     "output_type": "execute_result"
    }
   ],
   "source": [
    "# Convert the testing probabilities into a dataframe\n",
    "testing_probabilities_df = pd.DataFrame(testing_probabilities, columns=['1 - 𝑝(X_test)', '𝑝(X_test)'])\n",
    "testing_probabilities_df.head()"
   ]
  },
  {
   "cell_type": "code",
   "execution_count": 21,
   "id": "7da37ff7",
   "metadata": {
    "execution": {
     "iopub.execute_input": "2021-08-15T21:33:21.674971Z",
     "iopub.status.busy": "2021-08-15T21:33:21.674336Z",
     "iopub.status.idle": "2021-08-15T21:33:24.590054Z",
     "shell.execute_reply": "2021-08-15T21:33:24.590589Z",
     "shell.execute_reply.started": "2021-08-15T17:54:33.926589Z"
    },
    "papermill": {
     "duration": 2.963802,
     "end_time": "2021-08-15T21:33:24.590767",
     "exception": false,
     "start_time": "2021-08-15T21:33:21.626965",
     "status": "completed"
    },
    "tags": []
   },
   "outputs": [
    {
     "data": {
      "text/plain": [
       "array([1, 1, 1, ..., 0, 0, 1])"
      ]
     },
     "execution_count": 21,
     "metadata": {},
     "output_type": "execute_result"
    }
   ],
   "source": [
    "# Get predictions\n",
    "rfc.predict(X_test)"
   ]
  },
  {
   "cell_type": "code",
   "execution_count": 22,
   "id": "c0948885",
   "metadata": {
    "execution": {
     "iopub.execute_input": "2021-08-15T21:33:24.689405Z",
     "iopub.status.busy": "2021-08-15T21:33:24.688676Z",
     "iopub.status.idle": "2021-08-15T21:33:36.349735Z",
     "shell.execute_reply": "2021-08-15T21:33:36.349056Z",
     "shell.execute_reply.started": "2021-08-15T17:54:40.687709Z"
    },
    "papermill": {
     "duration": 11.713354,
     "end_time": "2021-08-15T21:33:36.349881",
     "exception": false,
     "start_time": "2021-08-15T21:33:24.636527",
     "status": "completed"
    },
    "tags": []
   },
   "outputs": [
    {
     "name": "stdout",
     "output_type": "stream",
     "text": [
      "Training RFC AUC: 1.0\n",
      "Testing RFC AUC: 0.9999917577312164\n"
     ]
    }
   ],
   "source": [
    "# Model evaluation -AUC\n",
    "# Calculate AUC for both training and testing subsets\n",
    "# Only probabilities being in the positive class is needed for the calculation, that is the second column\n",
    "training_rfc_AUC = roc_auc_score(y_train, rfc.predict_proba(X_train)[:, 1]) \n",
    "testing_rfc_AUC = roc_auc_score(y_test, rfc.predict_proba(X_test)[:, 1])\n",
    "\n",
    "print(\"Training RFC AUC:\", training_rfc_AUC)\n",
    "print(\"Testing RFC AUC:\", testing_rfc_AUC)"
   ]
  },
  {
   "cell_type": "markdown",
   "id": "5181c029",
   "metadata": {
    "papermill": {
     "duration": 0.04537,
     "end_time": "2021-08-15T21:33:36.441071",
     "exception": false,
     "start_time": "2021-08-15T21:33:36.395701",
     "status": "completed"
    },
    "tags": []
   },
   "source": [
    "# **Logist Regression (LGR) Model**"
   ]
  },
  {
   "cell_type": "code",
   "execution_count": 23,
   "id": "7f3e4692",
   "metadata": {
    "execution": {
     "iopub.execute_input": "2021-08-15T21:33:36.540385Z",
     "iopub.status.busy": "2021-08-15T21:33:36.539764Z",
     "iopub.status.idle": "2021-08-15T21:33:36.778079Z",
     "shell.execute_reply": "2021-08-15T21:33:36.777554Z",
     "shell.execute_reply.started": "2021-08-15T20:27:58.633954Z"
    },
    "papermill": {
     "duration": 0.289573,
     "end_time": "2021-08-15T21:33:36.778221",
     "exception": false,
     "start_time": "2021-08-15T21:33:36.488648",
     "status": "completed"
    },
    "tags": []
   },
   "outputs": [],
   "source": [
    "# Separate the transformed features matrix and target vector into random train and test subsets\n",
    "X_train, X_test, y_train, y_test = train_test_split(X_oversampled, y_oversampled, random_state=3)"
   ]
  },
  {
   "cell_type": "markdown",
   "id": "dcd6d2e8",
   "metadata": {
    "papermill": {
     "duration": 0.045633,
     "end_time": "2021-08-15T21:33:36.869144",
     "exception": false,
     "start_time": "2021-08-15T21:33:36.823511",
     "status": "completed"
    },
    "tags": []
   },
   "source": [
    "Automating hyperparameters:\n",
    "\n",
    ">I will use GridSearch to find the Logistic Regression model with the best performing hyperparameter combination. Here, note that we don't have to scale the data again as it were already done during the Principal Component Analysis transformation due confidentiality issues"
   ]
  },
  {
   "cell_type": "code",
   "execution_count": 24,
   "id": "c7950166",
   "metadata": {
    "execution": {
     "iopub.execute_input": "2021-08-15T21:33:36.964998Z",
     "iopub.status.busy": "2021-08-15T21:33:36.964329Z",
     "iopub.status.idle": "2021-08-15T21:33:36.967447Z",
     "shell.execute_reply": "2021-08-15T21:33:36.966979Z",
     "shell.execute_reply.started": "2021-08-15T20:28:13.563107Z"
    },
    "papermill": {
     "duration": 0.053095,
     "end_time": "2021-08-15T21:33:36.967628",
     "exception": false,
     "start_time": "2021-08-15T21:33:36.914533",
     "status": "completed"
    },
    "tags": []
   },
   "outputs": [],
   "source": [
    "# define dictionary of hyperparameters\n",
    "params = {'penalty': ['l1', 'l2'],\n",
    "          'C': [0.0001, 0.001, 0.01, 10, 50, 100],\n",
    "          'class_weight': [None, 'balanced']}"
   ]
  },
  {
   "cell_type": "code",
   "execution_count": 25,
   "id": "57b4ad35",
   "metadata": {
    "execution": {
     "iopub.execute_input": "2021-08-15T21:33:37.063007Z",
     "iopub.status.busy": "2021-08-15T21:33:37.062361Z",
     "iopub.status.idle": "2021-08-15T22:03:43.255733Z",
     "shell.execute_reply": "2021-08-15T22:03:43.256253Z",
     "shell.execute_reply.started": "2021-08-15T20:28:34.717559Z"
    },
    "papermill": {
     "duration": 1806.243486,
     "end_time": "2021-08-15T22:03:43.256430",
     "exception": false,
     "start_time": "2021-08-15T21:33:37.012944",
     "status": "completed"
    },
    "tags": []
   },
   "outputs": [
    {
     "data": {
      "text/plain": [
       "GridSearchCV(cv=5, estimator=LogisticRegression(solver='liblinear'),\n",
       "             param_grid={'C': [0.0001, 0.001, 0.01, 10, 50, 100],\n",
       "                         'class_weight': [None, 'balanced'],\n",
       "                         'penalty': ['l1', 'l2']})"
      ]
     },
     "execution_count": 25,
     "metadata": {},
     "output_type": "execute_result"
    }
   ],
   "source": [
    "# Instantiate Logistic Regression model. N.B: the default solver doesn't support l1 regularization\n",
    "# Instantiate Grid Search to find the best hyperparameters and fit the model\n",
    "lgr = LogisticRegression(solver='liblinear')\n",
    "gs = GridSearchCV(lgr, params, cv = 5)\n",
    "gs.fit(X_train, y_train)"
   ]
  },
  {
   "cell_type": "code",
   "execution_count": 26,
   "id": "3355438a",
   "metadata": {
    "execution": {
     "iopub.execute_input": "2021-08-15T22:03:43.354902Z",
     "iopub.status.busy": "2021-08-15T22:03:43.354234Z",
     "iopub.status.idle": "2021-08-15T22:03:43.512913Z",
     "shell.execute_reply": "2021-08-15T22:03:43.513771Z",
     "shell.execute_reply.started": "2021-08-15T18:53:05.504619Z"
    },
    "papermill": {
     "duration": 0.211772,
     "end_time": "2021-08-15T22:03:43.514022",
     "exception": false,
     "start_time": "2021-08-15T22:03:43.302250",
     "status": "completed"
    },
    "tags": []
   },
   "outputs": [
    {
     "name": "stdout",
     "output_type": "stream",
     "text": [
      "Training LGR Accuracy: 0.958647050101323\n",
      "Testing LGR Accuracy: 0.9577128654846887\n"
     ]
    }
   ],
   "source": [
    "# Model evaluation - accuracy \n",
    "training_lgr_accuracy = gs.score(X_train, y_train)\n",
    "testing_lgr_accuracy = gs.score(X_test, y_test)\n",
    "\n",
    "print(\"Training LGR Accuracy:\", training_lgr_accuracy)\n",
    "print(\"Testing LGR Accuracy:\", testing_lgr_accuracy)"
   ]
  },
  {
   "cell_type": "code",
   "execution_count": 27,
   "id": "e0f61a60",
   "metadata": {
    "execution": {
     "iopub.execute_input": "2021-08-15T22:03:43.649097Z",
     "iopub.status.busy": "2021-08-15T22:03:43.648371Z",
     "iopub.status.idle": "2021-08-15T22:03:44.090429Z",
     "shell.execute_reply": "2021-08-15T22:03:44.089937Z",
     "shell.execute_reply.started": "2021-08-15T18:53:13.444854Z"
    },
    "papermill": {
     "duration": 0.495222,
     "end_time": "2021-08-15T22:03:44.090585",
     "exception": false,
     "start_time": "2021-08-15T22:03:43.595363",
     "status": "completed"
    },
    "tags": []
   },
   "outputs": [
    {
     "data": {
      "image/png": "[encoded data removed]",
      "text/plain": [
       "<Figure size 576x396 with 2 Axes>"
      ]
     },
     "metadata": {},
     "output_type": "display_data"
    }
   ],
   "source": [
    "# Plotting the confusion matrix \n",
    "font1 = {'family': 'serif', \n",
    "        'fontstyle': 'italic',\n",
    "        'fontsize': 16,\n",
    "        'fontweight': 'bold',\n",
    "        'color': 'DarkRed'}\n",
    "\n",
    "plot_confusion_matrix(gs, X_test, y_test, values_format='d')\n",
    "plt.title('LGR Confusion Matrix', fontdict=font1)\n",
    "plt.grid(False)\n",
    "plt.show()"
   ]
  },
  {
   "cell_type": "code",
   "execution_count": 28,
   "id": "5549aec4",
   "metadata": {
    "execution": {
     "iopub.execute_input": "2021-08-15T22:03:44.194916Z",
     "iopub.status.busy": "2021-08-15T22:03:44.193682Z",
     "iopub.status.idle": "2021-08-15T22:03:44.467032Z",
     "shell.execute_reply": "2021-08-15T22:03:44.466013Z",
     "shell.execute_reply.started": "2021-08-15T20:59:53.450295Z"
    },
    "papermill": {
     "duration": 0.3293,
     "end_time": "2021-08-15T22:03:44.467186",
     "exception": false,
     "start_time": "2021-08-15T22:03:44.137886",
     "status": "completed"
    },
    "tags": []
   },
   "outputs": [
    {
     "name": "stdout",
     "output_type": "stream",
     "text": [
      "True Negatives: 69349\n",
      "False Positives: 1279\n",
      "False Negatives: 4710\n",
      "True Positives: 66289\n",
      "\n",
      "Sensitivity: 0.9336610374794011\n",
      "Specificity: 0.9818910347171094\n",
      "Precision: 0.9810709211461046\n"
     ]
    }
   ],
   "source": [
    "# Model evaluation - Sensitivity, Specificity and Precision \n",
    "TN, FP, FN, TP = confusion_matrix(y_test, gs.predict(X_test)).flatten()\n",
    "print(\"True Negatives:\", TN)\n",
    "print(\"False Positives:\", FP)\n",
    "print(\"False Negatives:\", FN)\n",
    "print(\"True Positives:\", TP)\n",
    "\n",
    "sensitivity = TP/(TP + FN)\n",
    "specificity = TN/(TN + FP)\n",
    "precision = TP/(TP + FP)\n",
    "print(\"\\nSensitivity:\", sensitivity)\n",
    "print(\"Specificity:\", specificity)\n",
    "print(\"Precision:\", precision)"
   ]
  },
  {
   "cell_type": "markdown",
   "id": "b64d5829",
   "metadata": {
    "papermill": {
     "duration": 0.061741,
     "end_time": "2021-08-15T22:03:44.585230",
     "exception": false,
     "start_time": "2021-08-15T22:03:44.523489",
     "status": "completed"
    },
    "tags": []
   },
   "source": [
    "From the results above, we can see that there are more false negatives than false positives. This cannot be a smart model because ignoring the probability of a transaction being fraud when there actually is one is very dangerous. It is a very serious data breach! So we need to lower the probability threshold in order to increase the true positive rate."
   ]
  },
  {
   "cell_type": "code",
   "execution_count": 29,
   "id": "bc1360e2",
   "metadata": {
    "execution": {
     "iopub.execute_input": "2021-08-15T22:03:44.689376Z",
     "iopub.status.busy": "2021-08-15T22:03:44.688187Z",
     "iopub.status.idle": "2021-08-15T22:03:45.030876Z",
     "shell.execute_reply": "2021-08-15T22:03:45.031968Z",
     "shell.execute_reply.started": "2021-08-15T21:00:02.417888Z"
    },
    "papermill": {
     "duration": 0.398655,
     "end_time": "2021-08-15T22:03:45.032242",
     "exception": false,
     "start_time": "2021-08-15T22:03:44.633587",
     "status": "completed"
    },
    "tags": []
   },
   "outputs": [
    {
     "name": "stdout",
     "output_type": "stream",
     "text": [
      "Training LGR AUC: 0.9918803796502905\n",
      "Testing LGR AUC: 0.9915963855793377\n"
     ]
    }
   ],
   "source": [
    "# Model evaluation -AUC\n",
    "# Calculate AUC for both training and testing subsets\n",
    "# Only probabilities being in the positive class is needed for the calculation, that is the second column\n",
    "training_lgr_AUC = roc_auc_score(y_train, gs.predict_proba(X_train)[:, 1]) \n",
    "testing_lgr_AUC = roc_auc_score(y_test, gs.predict_proba(X_test)[:, 1])\n",
    "\n",
    "print(\"Training LGR AUC:\", training_lgr_AUC)\n",
    "print(\"Testing LGR AUC:\", testing_lgr_AUC)"
   ]
  },
  {
   "cell_type": "markdown",
   "id": "1abc3950",
   "metadata": {
    "papermill": {
     "duration": 0.047761,
     "end_time": "2021-08-15T22:03:45.137586",
     "exception": false,
     "start_time": "2021-08-15T22:03:45.089825",
     "status": "completed"
    },
    "tags": []
   },
   "source": [
    "# **Gradeint Boosting Classifier (GBC) Model**"
   ]
  },
  {
   "cell_type": "code",
   "execution_count": 30,
   "id": "362597f3",
   "metadata": {
    "execution": {
     "iopub.execute_input": "2021-08-15T22:03:45.240424Z",
     "iopub.status.busy": "2021-08-15T22:03:45.239714Z",
     "iopub.status.idle": "2021-08-15T22:03:45.456412Z",
     "shell.execute_reply": "2021-08-15T22:03:45.455857Z",
     "shell.execute_reply.started": "2021-08-15T21:00:28.473059Z"
    },
    "papermill": {
     "duration": 0.270085,
     "end_time": "2021-08-15T22:03:45.456590",
     "exception": false,
     "start_time": "2021-08-15T22:03:45.186505",
     "status": "completed"
    },
    "tags": []
   },
   "outputs": [],
   "source": [
    "# Separate the transformed features matrix and target vector into random train and test subsets\n",
    "X_train, X_test, y_train, y_test = train_test_split(X_oversampled, y_oversampled, random_state=3)"
   ]
  },
  {
   "cell_type": "code",
   "execution_count": 31,
   "id": "a752ac50",
   "metadata": {
    "execution": {
     "iopub.execute_input": "2021-08-15T22:03:45.560711Z",
     "iopub.status.busy": "2021-08-15T22:03:45.560041Z",
     "iopub.status.idle": "2021-08-15T22:23:00.445739Z",
     "shell.execute_reply": "2021-08-15T22:23:00.446262Z",
     "shell.execute_reply.started": "2021-08-15T21:00:31.673678Z"
    },
    "papermill": {
     "duration": 1154.94129,
     "end_time": "2021-08-15T22:23:00.446442",
     "exception": false,
     "start_time": "2021-08-15T22:03:45.505152",
     "status": "completed"
    },
    "tags": []
   },
   "outputs": [
    {
     "data": {
      "text/plain": [
       "GradientBoostingClassifier(n_estimators=150)"
      ]
     },
     "execution_count": 31,
     "metadata": {},
     "output_type": "execute_result"
    }
   ],
   "source": [
    "# Instantiate and fit the model\n",
    "gbc = GradientBoostingClassifier(n_estimators=150)\n",
    "gbc.fit(X_train, y_train)"
   ]
  },
  {
   "cell_type": "code",
   "execution_count": 32,
   "id": "857c5798",
   "metadata": {
    "execution": {
     "iopub.execute_input": "2021-08-15T22:23:00.548736Z",
     "iopub.status.busy": "2021-08-15T22:23:00.548076Z",
     "iopub.status.idle": "2021-08-15T22:23:02.550557Z",
     "shell.execute_reply": "2021-08-15T22:23:02.550017Z",
     "shell.execute_reply.started": "2021-08-15T21:20:23.553650Z"
    },
    "papermill": {
     "duration": 2.05454,
     "end_time": "2021-08-15T22:23:02.550708",
     "exception": false,
     "start_time": "2021-08-15T22:23:00.496168",
     "status": "completed"
    },
    "tags": []
   },
   "outputs": [
    {
     "name": "stdout",
     "output_type": "stream",
     "text": [
      "Training GBC Accuracy: 0.9886885442678974\n",
      "Testing GBC Accuracy: 0.9883426182860613\n"
     ]
    }
   ],
   "source": [
    "# Model evaluation - accuracy \n",
    "training_gbc_accuracy = gbc.score(X_train, y_train)\n",
    "testing_gbc_accuracy = gbc.score(X_test, y_test)\n",
    "\n",
    "print(\"Training GBC Accuracy:\", training_gbc_accuracy)\n",
    "print(\"Testing GBC Accuracy:\", testing_gbc_accuracy)"
   ]
  },
  {
   "cell_type": "code",
   "execution_count": 33,
   "id": "4cab3eca",
   "metadata": {
    "execution": {
     "iopub.execute_input": "2021-08-15T22:23:02.670003Z",
     "iopub.status.busy": "2021-08-15T22:23:02.669316Z",
     "iopub.status.idle": "2021-08-15T22:23:03.516998Z",
     "shell.execute_reply": "2021-08-15T22:23:03.516417Z",
     "shell.execute_reply.started": "2021-08-15T21:20:30.265674Z"
    },
    "papermill": {
     "duration": 0.918062,
     "end_time": "2021-08-15T22:23:03.517131",
     "exception": false,
     "start_time": "2021-08-15T22:23:02.599069",
     "status": "completed"
    },
    "tags": []
   },
   "outputs": [
    {
     "data": {
      "image/png": "[encoded data removed]",
      "text/plain": [
       "<Figure size 504x504 with 2 Axes>"
      ]
     },
     "metadata": {},
     "output_type": "display_data"
    }
   ],
   "source": [
    "# Plotting the confusion matrix for Gradient Boosting \n",
    "fig, ax = plt.subplots(figsize=(7, 7))\n",
    "font1 = {'family': 'serif', \n",
    "        'fontstyle': 'italic',\n",
    "        'fontsize': 16,\n",
    "        'fontweight': 'bold',\n",
    "        'color': 'DarkBlue'}\n",
    "font2 = {'weight': 'bold', 'size': 12}\n",
    "\n",
    "sns.heatmap(confusion_matrix(y_test, gbc.predict(X_test)), \n",
    "            cmap='Oranges', \n",
    "            square=True,\n",
    "            annot=True,\n",
    "            fmt='d',\n",
    "            cbar_kws={'shrink': 0.8},\n",
    "            xticklabels=['Predicted 0s', 'Predicted 1s'],\n",
    "            yticklabels=['Actual 0s', 'Actual 1s'])\n",
    "ax.set_title('GBC Confusion Matrix', fontdict=font1)\n",
    "plt.show()"
   ]
  },
  {
   "cell_type": "code",
   "execution_count": 34,
   "id": "e2cc6775",
   "metadata": {
    "execution": {
     "iopub.execute_input": "2021-08-15T22:23:03.624900Z",
     "iopub.status.busy": "2021-08-15T22:23:03.624197Z",
     "iopub.status.idle": "2021-08-15T22:23:04.303259Z",
     "shell.execute_reply": "2021-08-15T22:23:04.302730Z",
     "shell.execute_reply.started": "2021-08-15T21:20:36.182897Z"
    },
    "papermill": {
     "duration": 0.736822,
     "end_time": "2021-08-15T22:23:04.303401",
     "exception": false,
     "start_time": "2021-08-15T22:23:03.566579",
     "status": "completed"
    },
    "tags": []
   },
   "outputs": [
    {
     "name": "stdout",
     "output_type": "stream",
     "text": [
      "True Negatives: 70071\n",
      "False Positives: 557\n",
      "False Negatives: 1094\n",
      "True Positives: 69905\n",
      "\n",
      "Sensitivity: 0.9845913322722856\n",
      "Specificity: 0.9921136093334089\n",
      "Precision: 0.9920950299452187\n"
     ]
    }
   ],
   "source": [
    "# Model evaluation - Sensitivity, Specificity and Precision \n",
    "TN, FP, FN, TP = confusion_matrix(y_test, gbc.predict(X_test)).flatten()\n",
    "print(\"True Negatives:\", TN)\n",
    "print(\"False Positives:\", FP)\n",
    "print(\"False Negatives:\", FN)\n",
    "print(\"True Positives:\", TP)\n",
    "\n",
    "sensitivity = TP/(TP + FN)\n",
    "specificity = TN/(TN + FP)\n",
    "precision = TP/(TP + FP)\n",
    "print(\"\\nSensitivity:\", sensitivity)\n",
    "print(\"Specificity:\", specificity)\n",
    "print(\"Precision:\", precision)"
   ]
  },
  {
   "cell_type": "markdown",
   "id": "121d1cdb",
   "metadata": {
    "papermill": {
     "duration": 0.107238,
     "end_time": "2021-08-15T22:23:04.460880",
     "exception": false,
     "start_time": "2021-08-15T22:23:04.353642",
     "status": "completed"
    },
    "tags": []
   },
   "source": [
    "**Visualizing the ROC Curve**"
   ]
  },
  {
   "cell_type": "code",
   "execution_count": 35,
   "id": "c48b6a59",
   "metadata": {
    "execution": {
     "iopub.execute_input": "2021-08-15T22:23:04.588312Z",
     "iopub.status.busy": "2021-08-15T22:23:04.585554Z",
     "iopub.status.idle": "2021-08-15T22:23:08.281610Z",
     "shell.execute_reply": "2021-08-15T22:23:08.282051Z",
     "shell.execute_reply.started": "2021-08-15T21:20:41.967856Z"
    },
    "papermill": {
     "duration": 3.771296,
     "end_time": "2021-08-15T22:23:08.282225",
     "exception": false,
     "start_time": "2021-08-15T22:23:04.510929",
     "status": "completed"
    },
    "tags": []
   },
   "outputs": [
    {
     "data": {
      "image/png": "[encoded data removed]",
      "text/plain": [
       "<Figure size 864x576 with 1 Axes>"
      ]
     },
     "metadata": {},
     "output_type": "display_data"
    }
   ],
   "source": [
    "# Visualize the ROC curve \n",
    "plt.style.use('seaborn')\n",
    "font1 = {'family': 'serif', \n",
    "        'fontstyle': 'italic',\n",
    "        'fontsize': 16,\n",
    "        'fontweight': 'bold',\n",
    "        'color': 'DarkBlue'}\n",
    "font2 = {'weight': 'bold', 'size': 12}\n",
    "\n",
    "fig, ax = plt.subplots(figsize=(12, 8))\n",
    "plot_roc_curve(rfc, X_test, y_test, color='darkgreen', linewidth=3, ax=ax, label='RandomForestClassifier (AUC = 1.0)')\n",
    "plot_roc_curve(gbc, X_test, y_test, color='orange', linewidth=3, ax=ax, label='GradientBoostingClassifier (AUC = 99.94)')\n",
    "plot_roc_curve(gs, X_test, y_test, color='magenta', linewidth=3, ax=ax, label='LogisticRegression (AUC = 99.16)')\n",
    "plt.plot([0, 1], [0, 1], ls='--', color='red', linewidth=3, label='Baseline (AUC = 0.5)')\n",
    "ax.legend(loc='lower right')\n",
    "ax.set_title('ROC Curve for Binary Classification Classifiers', fontdict=font1)\n",
    "ax.set_xlabel('False Positive Rate', fontdict=font2)\n",
    "ax.set_ylabel('True Positive Rate', fontdict=font2)\n",
    "plt.show()"
   ]
  },
  {
   "cell_type": "markdown",
   "id": "49aa3344",
   "metadata": {
    "papermill": {
     "duration": 0.051637,
     "end_time": "2021-08-15T22:23:08.385769",
     "exception": false,
     "start_time": "2021-08-15T22:23:08.334132",
     "status": "completed"
    },
    "tags": []
   },
   "source": [
    "# **Conclusion**\n",
    "AUC ROC is the best metric to evaluate our model for this dataset because the area under the curve will indicate the performance of our model -- the larger the better. As a general rule, a good binary classifier stays as far away from the model baseline as possible toward the top-left corner."
   ]
  }
 ],
 "metadata": {
  "kernelspec": {
   "display_name": "Python 3",
   "language": "python",
   "name": "python3"
  },
  "language_info": {
   "codemirror_mode": {
    "name": "ipython",
    "version": 3
   },
   "file_extension": ".py",
   "mimetype": "text/x-python",
   "name": "python",
   "nbconvert_exporter": "python",
   "pygments_lexer": "ipython3",
   "version": "3.7.10"
  },
  "papermill": {
   "default_parameters": {},
   "duration": 3704.892341,
   "end_time": "2021-08-15T22:23:09.248486",
   "environment_variables": {},
   "exception": null,
   "input_path": "__notebook__.ipynb",
   "output_path": "__notebook__.ipynb",
   "parameters": {},
   "start_time": "2021-08-15T21:21:24.356145",
   "version": "2.3.3"
  }
 },
 "nbformat": 4,
 "nbformat_minor": 5
}
